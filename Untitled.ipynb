{
 "cells": [
  {
   "cell_type": "code",
   "execution_count": 6,
   "id": "b023f8fc",
   "metadata": {},
   "outputs": [],
   "source": [
    "def create_mel_spec_data(song_path, save_path):\n",
    "    for audioname in os.listdir(song_path):\n",
    "\n",
    "        audio_path= \"/home/arpita/Hw4/dataset/\" + audioname #+ '.wav' #location\n",
    "        y, sr= librosa.load(audio_path)   \n",
    "        plt.axis('off') # no axis\n",
    "        plt.axes([0., 0., 1., 1.], frameon=False, xticks=[], yticks=[]) # Remove the white edge\n",
    "        S = librosa.feature.melspectrogram(y= y , sr= sr)\n",
    "        librosa.display.specshow(librosa.power_to_db(S, ref=np.max))\n",
    "        plt.axis('off')\n",
    "        plt.margins(0,0)\n",
    "        plt.gca().xaxis.set_major_locator(plt.NullLocator())\n",
    "        plt.gca().yaxis.set_major_locator(plt.NullLocator())\n",
    "        name = audioname.split(\".\")[0]\n",
    "        plt.savefig(save_path + name + \".png\", bbox_inches=None, pad_inches=0, aspect = 'auto')\n",
    "        plt.close()\n",
    "    print(\"Saved all images at \", save_path)"
   ]
  },
  {
   "cell_type": "code",
   "execution_count": 7,
   "id": "fdc5856c",
   "metadata": {},
   "outputs": [],
   "source": [
    "import librosa\n",
    "from keras.layers import Conv2D, Conv2DTranspose\n",
    "import pylab\n",
    "from keras.layers import Input, UpSampling2D, MaxPooling2D\n",
    "from keras.models import Model\n",
    "import librosa\n",
    "import librosa.display\n",
    "import matplotlib\n",
    "from keras.models import model_from_json\n",
    "from tensorflow.keras.optimizers import Adam \n",
    "from keras.callbacks import ModelCheckpoint\n",
    "import cv2\n",
    "import csv\n",
    "import os\n",
    "import numpy as np\n",
    "import matplotlib.pyplot as plt\n",
    "from keras.callbacks import EarlyStopping\n",
    "from sklearn.cluster import KMeans"
   ]
  },
  {
   "cell_type": "code",
   "execution_count": null,
   "id": "8e7a42a5",
   "metadata": {},
   "outputs": [],
   "source": []
  },
  {
   "cell_type": "code",
   "execution_count": 8,
   "id": "d8eac29e",
   "metadata": {},
   "outputs": [
    {
     "name": "stderr",
     "output_type": "stream",
     "text": [
      "/tmp/ipykernel_4714/1973170737.py:15: MatplotlibDeprecationWarning: savefig() got unexpected keyword argument \"aspect\" which is no longer supported as of 3.3 and will become an error two minor releases later\n",
      "  plt.savefig(save_path + name + \".png\", bbox_inches=None, pad_inches=0, aspect = 'auto')\n"
     ]
    },
    {
     "name": "stdout",
     "output_type": "stream",
     "text": [
      "Saved all images at  /home/arpita/Documents/mel\n"
     ]
    }
   ],
   "source": [
    "create_mel_spec_data(\"/home/arpita/Hw4/dataset/\", \"/home/arpita/Documents/mel/\")"
   ]
  },
  {
   "cell_type": "code",
   "execution_count": 11,
   "id": "cad70953",
   "metadata": {},
   "outputs": [],
   "source": [
    "from PIL import Image\n",
    "import numpy as np\n",
    "\n",
    "im = np.array(Image.open('/home/arpita/Documents/mel513.png'))"
   ]
  },
  {
   "cell_type": "code",
   "execution_count": 20,
   "id": "75d8dad7",
   "metadata": {},
   "outputs": [
    {
     "name": "stdout",
     "output_type": "stream",
     "text": [
      "[[ 0  0  4]\n",
      " [ 0  0  4]\n",
      " [ 6  5 24]\n",
      " ...\n",
      " [ 9  7 32]\n",
      " [ 9  7 32]\n",
      " [ 9  7 32]]\n"
     ]
    },
    {
     "data": {
      "image/png": "[encoded data removed]",
      "text/plain": [
       "<Figure size 432x288 with 3 Axes>"
      ]
     },
     "metadata": {
      "needs_background": "light"
     },
     "output_type": "display_data"
    }
   ],
   "source": [
    "import matplotlib.pyplot as plt\n",
    "im = cv2.imread('/home/arpita/Documents/mel513.png')\n",
    "im = cv2.cvtColor(im, cv2.COLOR_BGR2RGB)\n",
    "print(im[0])\n",
    "if im.shape[2] == 3:\n",
    "    # Input image is three channels\n",
    "    fig = plt.figure()\n",
    "    fig.add_subplot(311)\n",
    "    plt.hist(im[...,0].flatten(), 256, range=(0, 250), fc='b')\n",
    "    fig.add_subplot(312)\n",
    "    plt.hist(im[...,1].flatten(), 256, range=(0, 250), fc='g')\n",
    "    fig.add_subplot(313)\n",
    "    plt.hist(im[...,2].flatten(), 256, range=(0, 250), fc='r')\n",
    "    plt.show()\n"
   ]
  },
  {
   "cell_type": "code",
   "execution_count": null,
   "id": "d6164171",
   "metadata": {},
   "outputs": [],
   "source": []
  }
 ],
 "metadata": {
  "kernelspec": {
   "display_name": "Python 3 (ipykernel)",
   "language": "python",
   "name": "python3"
  },
  "language_info": {
   "codemirror_mode": {
    "name": "ipython",
    "version": 3
   },
   "file_extension": ".py",
   "mimetype": "text/x-python",
   "name": "python",
   "nbconvert_exporter": "python",
   "pygments_lexer": "ipython3",
   "version": "3.9.7"
  }
 },
 "nbformat": 4,
 "nbformat_minor": 5
}
